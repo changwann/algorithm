{
 "cells": [
  {
   "cell_type": "markdown",
   "metadata": {},
   "source": [
    "# Second GreatLow\n",
    "Have the function SecondGreatLow(arr) take the array of numbers stored in arr and return the second lowest and second greatest numbers, respectively, separated by a space. For example: if arr contains [7, 7, 12, 98, 106] the output should be 12 98. The array will not be empty and will contain at least 2 numbers. It can get tricky if there's just two numbers!\n",
    "### Examples  \n",
    "Input: [1, 42, 42, 180]  \n",
    "Output: 42 42  \n",
    "Input: [4, 90]  \n",
    "Output: 90 4  "
   ]
  },
  {
   "cell_type": "code",
   "execution_count": 9,
   "metadata": {},
   "outputs": [],
   "source": [
    "def SecondGreatLow(arr):\n",
    "    if len(arr) > 2:\n",
    "        max_num = max(arr)\n",
    "        min_num = min(arr)\n",
    "        while max(arr) == max_num:\n",
    "            arr.remove(max_num)\n",
    "        while min(arr) == min_num:\n",
    "            arr.remove(min_num)\n",
    "        return f\"{min(arr)} {max(arr)}\"\n",
    "    return f\"{max(arr)} {min(arr)}\""
   ]
  },
  {
   "cell_type": "code",
   "execution_count": 12,
   "metadata": {},
   "outputs": [
    {
     "name": "stdout",
     "output_type": "stream",
     "text": [
      "12 98\n"
     ]
    }
   ],
   "source": [
    "print(SecondGreatLow([7, 7, 12, 98, 106]))"
   ]
  }
 ],
 "metadata": {
  "kernelspec": {
   "display_name": "Python 3",
   "language": "python",
   "name": "python3"
  },
  "language_info": {
   "codemirror_mode": {
    "name": "ipython",
    "version": 3
   },
   "file_extension": ".py",
   "mimetype": "text/x-python",
   "name": "python",
   "nbconvert_exporter": "python",
   "pygments_lexer": "ipython3",
   "version": "3.11.4"
  },
  "orig_nbformat": 4
 },
 "nbformat": 4,
 "nbformat_minor": 2
}
