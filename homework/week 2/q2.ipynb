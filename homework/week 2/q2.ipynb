{
 "cells": [
  {
   "cell_type": "markdown",
   "metadata": {},
   "source": [
    "# Wave Sorting\n",
    "Have the function WaveSorting(arr) take the array of positive integers stored in arr and return the string true if the numbers can be arranged in a wave pattern: a1 > a2 < a3 > a4 < a5 > ..., otherwise return the string false. For example, if arr is: [0, 1, 2, 4, 1, 4], then a possible wave ordering of the numbers is: [2, 0, 4, 1, 4, 1]. So for this input your program should return the string true. The input array will always contain at least 2 elements. More examples are given below as sample test cases.\n",
    "\n",
    "### Examples\n",
    "Input: [0, 1, 2, 4, 1, 1, 1]  \n",
    "Output: false  \n",
    "Input: [0, 4, 22, 4, 14, 4, 2]  \n",
    "Output: true  "
   ]
  },
  {
   "cell_type": "code",
   "execution_count": 40,
   "metadata": {},
   "outputs": [],
   "source": [
    "def WaveSorting(arr):\n",
    "    new_arr = sorted(arr)\n",
    "    small_arr = new_arr[0:len(arr)//2]\n",
    "    big_arr = new_arr[len(arr)//2:len(arr)]\n",
    "    wave_arr = []\n",
    "    for i in range(len(arr)//2):\n",
    "        wave_arr.append(big_arr[i])\n",
    "        wave_arr.append(small_arr[i])\n",
    "    if len(big_arr) > len(small_arr):\n",
    "        wave_arr.append(big_arr[-1])\n",
    "\n",
    "    print(wave_arr)\n",
    "    for i in range(1, len(arr)-1, 2):\n",
    "        if not (wave_arr[i-1] > wave_arr[i] and wave_arr[i] < wave_arr[i+1]):\n",
    "            return \"false\"\n",
    "    return \"true\""
   ]
  },
  {
   "cell_type": "code",
   "execution_count": 43,
   "metadata": {},
   "outputs": [
    {
     "name": "stdout",
     "output_type": "stream",
     "text": [
      "[2, 0, 4, 1, 4, 1]\n",
      "true\n"
     ]
    }
   ],
   "source": [
    "print(WaveSorting([0, 1, 2, 4, 1, 4]))"
   ]
  }
 ],
 "metadata": {
  "kernelspec": {
   "display_name": "Python 3",
   "language": "python",
   "name": "python3"
  },
  "language_info": {
   "codemirror_mode": {
    "name": "ipython",
    "version": 3
   },
   "file_extension": ".py",
   "mimetype": "text/x-python",
   "name": "python",
   "nbconvert_exporter": "python",
   "pygments_lexer": "ipython3",
   "version": "3.11.4"
  },
  "orig_nbformat": 4
 },
 "nbformat": 4,
 "nbformat_minor": 2
}
