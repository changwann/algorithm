{
 "cells": [
  {
   "cell_type": "markdown",
   "metadata": {},
   "source": [
    "# Sort an Array using recursion\n",
    "Sorting an array can be done using an iterative method. We have also learned divide and conquer methods of sorting an array using merge sort and quick sort. But in this question, you must sort an array using simple recursion. You should not care about the time complexity of this question. The goal is to teach you how you can think in terms of recursion to solve a given problem.\n",
    "\n",
    "You must not use min(), max(), sort() functions of python. if needed you can write your own min() or max() function, again in recursive manner. You must not use merge sort or quick sort algorithm. In your code, you must not have any loops, it should be completely loop free.\n",
    "\n",
    "\n",
    "\n",
    "Both the input and output are lists of integers, and they can be empty.\n",
    "\n",
    "\n",
    "\n",
    "### Example\n",
    "\n",
    "Input: lists = [8,9,10, 2,4,5] Output: [2,4,5,8,9,10]\n",
    "\n",
    "### Examples  \n",
    "Input: [2,4,5,1,11,22,45]  \n",
    "Output: [1,2,4,5,11,22,45]  \n",
    "Input: [4,1,2,3,4,90,0]  \n",
    "Output: [0,1,2,3,4,4,90]  "
   ]
  },
  {
   "cell_type": "code",
   "execution_count": null,
   "metadata": {},
   "outputs": [],
   "source": [
    "# 최종 답안 제출\n",
    "\n",
    "def min_of_list(arr): # write my own min() function\n",
    "    if len(arr) == 1:\n",
    "        return arr[0]\n",
    "    m = min_of_list(arr[1:])\n",
    "    return arr[0] if arr[0] < m else m\n",
    "\n",
    "def SortanArrayusingrecursion(arr):\n",
    "    if arr == []: # for empty array\n",
    "        return []\n",
    "    elif len(arr) == 1:\n",
    "        return arr\n",
    "    input_arr = list(arr) # save original array\n",
    "    m = min_of_list(arr) # find minimum value in array\n",
    "    arr = input_arr # load original array\n",
    "    arr.remove(m) # delete minimum value in array\n",
    "    return [m] + SortanArrayusingrecursion(arr) # it will be array that has the form a0 < a1 < a2 ...\n",
    "\n",
    "# keep this function call here \n",
    "print(SortanArrayusingrecursion(input()))"
   ]
  },
  {
   "cell_type": "markdown",
   "metadata": {},
   "source": [
    "아래는 고민의 과정 (분리해서 디버깅함)\n",
    "- 내가 몰랐던 것:\n",
    "remove의 작동 방식"
   ]
  },
  {
   "cell_type": "code",
   "execution_count": 151,
   "metadata": {},
   "outputs": [
    {
     "name": "stdout",
     "output_type": "stream",
     "text": [
      "[3]\n"
     ]
    }
   ],
   "source": [
    "a = [1, 3]\n",
    "b = a\n",
    "a.remove(1)\n",
    "print(b) # [3]"
   ]
  },
  {
   "cell_type": "code",
   "execution_count": 146,
   "metadata": {},
   "outputs": [],
   "source": [
    "def min_of_list(arr):\n",
    "    if len(arr) == 1:\n",
    "        return arr[0]\n",
    "    m = min_of_list(arr[1:])\n",
    "    return arr[0] if arr[0] < m else m\n",
    "    "
   ]
  },
  {
   "cell_type": "code",
   "execution_count": 131,
   "metadata": {},
   "outputs": [],
   "source": [
    "def SortanArrayusingrecursion(arr):\n",
    "    if arr == []:\n",
    "        return []\n",
    "    elif len(arr) == 1:\n",
    "        return arr\n",
    "    input_arr = list(arr) # save original array\n",
    "    m = min_of_list(arr)\n",
    "    arr = input_arr # load original array\n",
    "    arr.remove(m)\n",
    "    return [m] + SortanArrayusingrecursion(arr)"
   ]
  },
  {
   "cell_type": "code",
   "execution_count": 150,
   "metadata": {},
   "outputs": [
    {
     "name": "stdout",
     "output_type": "stream",
     "text": [
      "[0, 1, 2, 3, 4, 4, 90]\n"
     ]
    }
   ],
   "source": [
    "# keep this function call here \n",
    "ex = [4,1,2,3,4,90,0]\n",
    "result = SortanArrayusingrecursion(ex)\n",
    "print(result)"
   ]
  },
  {
   "cell_type": "markdown",
   "metadata": {},
   "source": [
    "### 상민이 답"
   ]
  },
  {
   "cell_type": "code",
   "execution_count": null,
   "metadata": {},
   "outputs": [],
   "source": [
    "def SortanArrayusingrecursion(arr):\n",
    "  # code goes here\n",
    "  if len(arr)<=1: return arr\n",
    "\n",
    "  n=len(arr)\n",
    "  lastElement=arr[-1]\n",
    "  newarr=SortanArrayusingrecursion(arr[0:n-1])\n",
    "\n",
    "  if newarr[-1]>lastElement:\n",
    "    temp=newarr[-1]\n",
    "    newarr[-1]=lastElement\n",
    "    lastElement=temp\n",
    "  \n",
    "  return SortanArrayusingrecursion(newarr)+[lastElement]\n",
    "\n",
    "# keep this function call here \n",
    "print(SortanArrayusingrecursion(input()))"
   ]
  },
  {
   "cell_type": "markdown",
   "metadata": {},
   "source": []
  }
 ],
 "metadata": {
  "kernelspec": {
   "display_name": "Python 3",
   "language": "python",
   "name": "python3"
  },
  "language_info": {
   "codemirror_mode": {
    "name": "ipython",
    "version": 3
   },
   "file_extension": ".py",
   "mimetype": "text/x-python",
   "name": "python",
   "nbconvert_exporter": "python",
   "pygments_lexer": "ipython3",
   "version": "3.11.4"
  },
  "orig_nbformat": 4
 },
 "nbformat": 4,
 "nbformat_minor": 2
}
