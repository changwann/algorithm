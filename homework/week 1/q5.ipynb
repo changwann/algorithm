{
 "cells": [
  {
   "cell_type": "markdown",
   "metadata": {},
   "source": [
    "# Run Length\n",
    "Have the function RunLength(str) take the str parameter being passed and return a compressed version of the string using the Run-length encoding algorithm. This algorithm works by taking the occurrence of each repeating character and outputting that number along with a single character of the repeating sequence. For example: \"wwwggopp\" would return 3w2g1o2p. The string will not contain any numbers, punctuation, or symbols.  \n",
    "### Examples  \n",
    "Input: \"aabbcde\"  \n",
    "Output: 2a2b1c1d1e  \n",
    "Input: \"wwwbbbw\"  \n",
    "Output: 3w3b1w  "
   ]
  },
  {
   "cell_type": "code",
   "execution_count": 24,
   "metadata": {},
   "outputs": [],
   "source": [
    "def RunLength(strParam):\n",
    "    arr = list(strParam) + [None]\n",
    "    t = arr[0]\n",
    "    cnt = 0\n",
    "    result = \"\"\n",
    "    for i in arr:\n",
    "        if t == i:\n",
    "            cnt += 1\n",
    "        else:\n",
    "            result += str(cnt)+str(t)\n",
    "            cnt = 1\n",
    "            t = i\n",
    "    return result"
   ]
  },
  {
   "cell_type": "code",
   "execution_count": 26,
   "metadata": {},
   "outputs": [
    {
     "name": "stdout",
     "output_type": "stream",
     "text": [
      "3w3b1w\n"
     ]
    }
   ],
   "source": [
    "# keep this function call here \n",
    "print(RunLength(\"wwwbbbw\"))"
   ]
  }
 ],
 "metadata": {
  "kernelspec": {
   "display_name": "Python 3",
   "language": "python",
   "name": "python3"
  },
  "language_info": {
   "codemirror_mode": {
    "name": "ipython",
    "version": 3
   },
   "file_extension": ".py",
   "mimetype": "text/x-python",
   "name": "python",
   "nbconvert_exporter": "python",
   "pygments_lexer": "ipython3",
   "version": "3.11.4"
  },
  "orig_nbformat": 4
 },
 "nbformat": 4,
 "nbformat_minor": 2
}
