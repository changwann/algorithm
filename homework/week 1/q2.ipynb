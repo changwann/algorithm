{
 "cells": [
  {
   "cell_type": "markdown",
   "metadata": {},
   "source": [
    "# Array Addition I\n",
    "Have the function ArrayAdditionI(arr) take the array of numbers stored in arr and return the string true if any combination of numbers in the array (excluding the largest number) can be added up to equal the largest number in the array, otherwise return the string false. For example: if arr contains [4, 6, 23, 10, 1, 3] the output should return true because 4 + 6 + 10 + 3 = 23. The array will not be empty, will not contain all the same elements, and may contain negative numbers.\n",
    "\n",
    "### Examples  \n",
    "Input: [5,7,16,1,2]  \n",
    "Output: false  \n",
    "Input: [3,5,-1,8,12]  \n",
    "Output: true  "
   ]
  },
  {
   "cell_type": "code",
   "execution_count": 21,
   "metadata": {},
   "outputs": [],
   "source": [
    "from itertools import combinations\n",
    "\n",
    "def ArrayAdditionI(arr):\n",
    "    max_num = max(arr)\n",
    "    arr.remove(max_num)\n",
    "    sub_arr = []\n",
    "    for i in range(2, len(arr)):\n",
    "        sub_arr += list(combinations(arr, i))\n",
    "    new_arr = list(map(sum, sub_arr))\n",
    "    new_arr.append(sum(arr))\n",
    "    print(arr)\n",
    "    return max_num in new_arr\n"
   ]
  },
  {
   "cell_type": "code",
   "execution_count": 23,
   "metadata": {},
   "outputs": [
    {
     "name": "stdout",
     "output_type": "stream",
     "text": [
      "[5, 7, 1, 2]\n",
      "False\n"
     ]
    }
   ],
   "source": [
    "# keep this function call here\n",
    "ex = [5,7,16,1,2]\n",
    "print(ArrayAdditionI(ex))"
   ]
  }
 ],
 "metadata": {
  "kernelspec": {
   "display_name": "Python 3",
   "language": "python",
   "name": "python3"
  },
  "language_info": {
   "codemirror_mode": {
    "name": "ipython",
    "version": 3
   },
   "file_extension": ".py",
   "mimetype": "text/x-python",
   "name": "python",
   "nbconvert_exporter": "python",
   "pygments_lexer": "ipython3",
   "version": "3.11.4"
  },
  "orig_nbformat": 4
 },
 "nbformat": 4,
 "nbformat_minor": 2
}
